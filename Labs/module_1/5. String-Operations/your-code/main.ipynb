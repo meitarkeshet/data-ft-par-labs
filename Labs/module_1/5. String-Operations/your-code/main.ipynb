{
 "cells": [
  {
   "cell_type": "markdown",
   "metadata": {},
   "source": [
    "# Before your start:\n",
    "- Read the README.md file\n",
    "- Comment as much as you can and use the resources in the README.md file\n",
    "- Happy learning!"
   ]
  },
  {
   "cell_type": "markdown",
   "metadata": {},
   "source": [
    "# Challenge 1 - Combining Strings\n",
    "\n",
    "Combining strings is an important skill to acquire. There are multiple ways of combining strings in Python, as well as combining strings with variables. We will explore this in the first challenge. In the cell below, combine the strings in the list and add spaces between the strings (do not add a space after the last string). Insert a period after the last string."
   ]
  },
  {
   "cell_type": "code",
   "execution_count": 51,
   "metadata": {},
   "outputs": [
    {
     "name": "stdout",
     "output_type": "stream",
     "text": [
      "Durante un tiempo no estuvo segura de si su marido era su marido\n"
     ]
    }
   ],
   "source": [
    "str_list = ['Durante', 'un', 'tiempo', 'no', 'estuvo', 'segura', 'de', 'si', 'su', 'marido', 'era', 'su', 'marido']\n",
    "# Your code here:\n",
    "\n",
    "cat_str = \" \".join(str_list)\n",
    "print(cat_str)"
   ]
  },
  {
   "cell_type": "markdown",
   "metadata": {},
   "source": [
    "In the cell below, use the list of strings to create a grocery list. Start the list with the string `Grocery list: ` and include a comma and a space between each item except for the last one. Include a period at the end. Only include foods in the list that start with the letter 'b' and ensure all foods are lower case."
   ]
  },
  {
   "cell_type": "code",
   "execution_count": 62,
   "metadata": {},
   "outputs": [
    {
     "name": "stdout",
     "output_type": "stream",
     "text": [
      "['Grocery list:', 'Bananas', 'bread', 'Brownie Mix', 'broccoli']\n",
      "grocery list:, bananas, bread, brownie mix, broccoli.\n"
     ]
    }
   ],
   "source": [
    "food_list = ['Bananas', 'Chocolate', 'bread', 'diapers', 'Ice Cream', 'Brownie Mix', 'broccoli']\n",
    "# Only include foods in the list that start with the letter 'b' \n",
    "food_list = [food for food in food_list if \"b\" in food or \"B\" in food]\n",
    "\n",
    "# Start the list with the string Grocery list:\n",
    "food_list.insert(0, \"Grocery list:\")\n",
    "print(food_list)\n",
    "\n",
    "# include a comma and a space between each item except for the last one.\n",
    "grocery_list = \", \".join(food_list)\n",
    "\n",
    "# remove first ','\n",
    "#first_comma = grocery_list.index(\",\")\n",
    "#grocery_list.pop(first_comma)\n",
    "#lst_grocery_list = list(grocery_list)\n",
    "#lst_grocery_list.remove(',')\n",
    "#grocery_list = \"\".join(food_list)\n",
    "\n",
    "#Include a period at the end.\n",
    "grocery_list = grocery_list + \".\"\n",
    "\n",
    "#ensure all foods are lower case.\n",
    "grocery_list = grocery_list.lower()\n",
    "#print(type(grocery_list))\n",
    "print(grocery_list)\n",
    "\n"
   ]
  },
  {
   "cell_type": "markdown",
   "metadata": {},
   "source": [
    "In the cell below, write a function that computes the area of a circle using its radius. Compute the area of the circle and insert the radius and the area between the two strings. Make sure to include spaces between the variable and the strings. \n",
    "\n",
    "Note: You can use the techniques we have learned so far or use f-strings. F-strings allow us to embed code inside strings. You can read more about f-strings [here](https://www.python.org/dev/peps/pep-0498/)."
   ]
  },
  {
   "cell_type": "code",
   "execution_count": 68,
   "metadata": {},
   "outputs": [
    {
     "name": "stdout",
     "output_type": "stream",
     "text": [
      "The area of the circle with radius 4.5 is:  63.61725123519331\n"
     ]
    }
   ],
   "source": [
    "import math\n",
    "\n",
    "string1 = \"The area of the circle with radius:\"\n",
    "string2  = \"is:\"\n",
    "radius = 4.5\n",
    "\n",
    "def area(radius, pi = math.pi):\n",
    "    \"\"\"\n",
    "    This function takes a radius and returns the area of a circle. \n",
    "    We also pass a default value for pi.\n",
    "    \n",
    "    Input: Float (and default value for pi)\n",
    "    Output: Float\n",
    "    \n",
    "    Sample input: 5.0\n",
    "    Sample Output: 78.53981633\n",
    "    \"\"\"\n",
    "    return((radius ** 2)*pi)\n",
    "    \n",
    "    # Your code here:\n",
    "string1 = area(radius)\n",
    "\n",
    "    \n",
    "# Your output string here:\n",
    "print(\"The area of the circle with radius\",radius,\"is: \",string1)"
   ]
  },
  {
   "cell_type": "markdown",
   "metadata": {},
   "source": [
    "# Challenge 2 - Splitting Strings\n",
    "\n",
    "We have first looked at combining strings into one long string. There are times where we need to do the opposite and split the string into smaller components for further analysis. \n",
    "\n",
    "In the cell below, split the string into a list of strings using the space delimiter. Count the frequency of each word in the string in a dictionary. Strip the periods, line breaks and commas from the text. Make sure to remove empty strings from your dictionary."
   ]
  },
  {
   "cell_type": "code",
   "execution_count": 112,
   "metadata": {},
   "outputs": [
    {
     "name": "stdout",
     "output_type": "stream",
     "text": [
      "['Some', 'say', 'the', 'world', 'will', 'end', 'in', 'fire,', 'Some', 'say', 'in', 'ice.', 'From', 'what', 'I’ve', 'tasted', 'of', 'desire', 'I', 'hold', 'with', 'those', 'who', 'favor', 'fire.', 'But', 'if', 'it', 'had', 'to', 'perish', 'twice,', 'I', 'think', 'I', 'know', 'enough', 'of', 'hate', 'To', 'say', 'that', 'for', 'destruction', 'ice', 'Is', 'also', 'great', 'And', 'would', 'suffice.']\n"
     ]
    },
    {
     "data": {
      "text/plain": [
       "{'say': 3,\n",
       " 'I': 3,\n",
       " 'Some': 2,\n",
       " 'in': 2,\n",
       " 'fire': 2,\n",
       " 'ice': 2,\n",
       " 'of': 2,\n",
       " 'the': 1,\n",
       " 'world': 1,\n",
       " 'will': 1,\n",
       " 'end': 1,\n",
       " 'From': 1,\n",
       " 'what': 1,\n",
       " 'I’ve': 1,\n",
       " 'tasted': 1,\n",
       " 'desire': 1,\n",
       " 'hold': 1,\n",
       " 'with': 1,\n",
       " 'those': 1,\n",
       " 'who': 1,\n",
       " 'favor': 1,\n",
       " 'But': 1,\n",
       " 'if': 1,\n",
       " 'it': 1,\n",
       " 'had': 1,\n",
       " 'to': 1,\n",
       " 'perish': 1,\n",
       " 'twice': 1,\n",
       " 'think': 1,\n",
       " 'know': 1,\n",
       " 'enough': 1,\n",
       " 'hate': 1,\n",
       " 'To': 1,\n",
       " 'that': 1,\n",
       " 'for': 1,\n",
       " 'destruction': 1,\n",
       " 'Is': 1,\n",
       " 'also': 1,\n",
       " 'great': 1,\n",
       " 'And': 1,\n",
       " 'would': 1,\n",
       " 'suffice': 1}"
      ]
     },
     "execution_count": 112,
     "metadata": {},
     "output_type": "execute_result"
    }
   ],
   "source": [
    "poem = \"\"\"Some say the world will end in fire,\n",
    "Some say in ice.\n",
    "From what I’ve tasted of desire\n",
    "I hold with those who favor fire.\n",
    "But if it had to perish twice,\n",
    "I think I know enough of hate\n",
    "To say that for destruction ice\n",
    "Is also great\n",
    "And would suffice.\"\"\"\n",
    "\n",
    "# Your code here:\n",
    "#seperators\n",
    "cln_poem = poem.split(\" \")\n",
    "cln_poem = [i.split(\"\\n\") for i in cln_poem]\n",
    "#flatten\n",
    "cln_poem = [j for i in cln_poem for j in i]\n",
    "#Strip the periods, line breaks and commas from the text.\n",
    "cln_poem = [i.strip(\".,\\n\") for i in cln_poem]\n",
    "\n",
    "#create a dictionary \n",
    "import operator\n",
    "dct={i:cln_poem.count(i) for i in cln_poem}\n",
    "#print(dct)\n",
    "\n",
    "#sort the dictionary in reverse\n",
    "dict(sorted(dct.items(), key=operator.itemgetter(1), reverse=True))"
   ]
  },
  {
   "cell_type": "markdown",
   "metadata": {},
   "source": [
    "In the cell below, find all the words that appear in the text and do not appear in the blacklist. You must parse the string but can choose any data structure you wish for the words that do not appear in the blacklist. Remove all non letter characters and convert all words to lower case."
   ]
  },
  {
   "cell_type": "code",
   "execution_count": 126,
   "metadata": {},
   "outputs": [
    {
     "name": "stdout",
     "output_type": "stream",
     "text": [
      "1 97\n",
      "2 97\n",
      "3 115\n",
      "4 101\n"
     ]
    }
   ],
   "source": [
    "blacklist = ['and', 'as', 'an', 'a', 'the', 'in', 'it']\n",
    "\n",
    "poem = \"\"\"I was angry with my friend; \n",
    "I told my wrath, my wrath did end.\n",
    "I was angry with my foe: \n",
    "I told it not, my wrath did grow. \n",
    "\n",
    "And I waterd it in fears,\n",
    "Night & morning with my tears: \n",
    "And I sunned it with smiles,\n",
    "And with soft deceitful wiles. \n",
    "\n",
    "And it grew both day and night. \n",
    "Till it bore an apple bright. \n",
    "And my foe beheld it shine,\n",
    "And he knew that it was mine. \n",
    "\n",
    "And into my garden stole, \n",
    "When the night had veild the pole; \n",
    "In the morning glad I see; \n",
    "My foe outstretched beneath the tree.\"\"\"\n",
    "\n",
    "# Your code here:\n",
    "\n",
    "cln_poem = poem.split(\" \")\n",
    "print(\"1\", len(cln_poem))\n",
    "cln_poem = [i.split(\"\\n\") for i in cln_poem]\n",
    "print(\"2\",len(cln_poem))\n",
    "\n",
    "#flatten\n",
    "cln_poem = [j for i in cln_poem for j in i]\n",
    "print(\"3\",len(cln_poem))\n",
    "# take out empty lists\n",
    "cln_poem = [i for i in cln_poem if i != \"\"]\n",
    "print(\"4\",len(cln_poem))\n",
    "\n",
    "#Strip all non letter characters \n",
    ".strip(\" .,/1235\")\n",
    "#cln_poem = [i.strip(\".,\\n\") for i in cln_poem]\n",
    "#cln_poem = [c for c in cln_poem if c.isalnum()]\n",
    "\n",
    "#print(cln_poem)"
   ]
  },
  {
   "cell_type": "code",
   "execution_count": 185,
   "metadata": {},
   "outputs": [
    {
     "name": "stdout",
     "output_type": "stream",
     "text": [
      "{'did', 'garden', 'beneath', 'fears', 'told', 'I', 'wiles', 'soft', 'My', 'had', 'veild', 'waterd', 'both', 'day', 'he', 'angry', 'sunned', 'grow', 'that', 'apple', 'shine', 'foe', 'grew', 'When', 'not', 'tree', 'Night', 'deceitful', 'morning', 'bore', 'friend', 'outstretched', 'bright', 'Till', 'my', 'into', 'smiles', 'glad', 'with', 'mine', 'beheld', 'And', 'was', 'tears', 'knew', 'night', 'In', 'see', 'wrath', 'pole', 'end', 'stole'}\n"
     ]
    }
   ],
   "source": [
    "# instead of spliting it twice and then flattening a list, use REGEX\n",
    "\n",
    "import re\n",
    "cln_poem = re.split(\" |\\n\", poem)\n",
    "#print(cln_poem)\n",
    "cln_poem = [re.findall(\"[A-Za-z]+\", i) for i in cln_poem]\n",
    "\n",
    "cln_poem = [word for subset in cln_poem for word in subset]\n",
    "#re.findall(\"[A-Za-z]+\", cln_poem)[0]\n",
    "\n",
    "#print(cln_poem)\n",
    "\n",
    "cln_poem = set(cln_poem)\n",
    "#print(cln_poem)\n",
    "\n",
    "#the words that appear in poem and do not appear in the blacklist\n",
    "print (cln_poem.difference(blacklist)) \n"
   ]
  },
  {
   "cell_type": "code",
   "execution_count": null,
   "metadata": {},
   "outputs": [],
   "source": []
  }
 ],
 "metadata": {
  "kernelspec": {
   "display_name": "Python 3",
   "language": "python",
   "name": "python3"
  },
  "language_info": {
   "codemirror_mode": {
    "name": "ipython",
    "version": 3
   },
   "file_extension": ".py",
   "mimetype": "text/x-python",
   "name": "python",
   "nbconvert_exporter": "python",
   "pygments_lexer": "ipython3",
   "version": "3.8.3"
  },
  "varInspector": {
   "cols": {
    "lenName": 16,
    "lenType": 16,
    "lenVar": 40
   },
   "kernels_config": {
    "python": {
     "delete_cmd_postfix": "",
     "delete_cmd_prefix": "del ",
     "library": "var_list.py",
     "varRefreshCmd": "print(var_dic_list())"
    },
    "r": {
     "delete_cmd_postfix": ") ",
     "delete_cmd_prefix": "rm(",
     "library": "var_list.r",
     "varRefreshCmd": "cat(var_dic_list()) "
    }
   },
   "types_to_exclude": [
    "module",
    "function",
    "builtin_function_or_method",
    "instance",
    "_Feature"
   ],
   "window_display": false
  }
 },
 "nbformat": 4,
 "nbformat_minor": 2
}
