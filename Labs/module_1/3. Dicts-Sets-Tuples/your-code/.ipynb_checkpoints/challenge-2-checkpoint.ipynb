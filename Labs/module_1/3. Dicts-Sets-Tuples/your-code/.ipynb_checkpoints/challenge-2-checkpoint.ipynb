{
 "cells": [
  {
   "cell_type": "markdown",
   "metadata": {},
   "source": [
    "## Challenge 2: Sets\n",
    "\n",
    "There are a lot to learn about Python Sets and the information presented in the lesson is limited due to its length. To learn Python Sets in depth you are strongly encouraged to review the W3Schools tutorial on [Python Sets Examples and Methods](https://www.w3schools.com/python/python_sets.asp) before you work on this lab. Some difficult questions in this lab have their solutions in the W3Schools tutorial.\n",
    "\n",
    "#### First, import the Python `random` library."
   ]
  },
  {
   "cell_type": "code",
   "execution_count": 4,
   "metadata": {},
   "outputs": [],
   "source": [
    "import random"
   ]
  },
  {
   "cell_type": "markdown",
   "metadata": {},
   "source": [
    "#### In the cell below, create a list named `sample_list_1` with 80 random values. \n",
    "\n",
    "Requirements:\n",
    "\n",
    "* Each value is an integer falling between 0 and 100.\n",
    "* Each value in the list is unique.\n",
    "\n",
    "Print `sample_list_1` to review its values\n",
    "\n",
    "*Hint: use `random.sample` ([reference](https://docs.python.org/3/library/random.html#random.sample)).*"
   ]
  },
  {
   "cell_type": "code",
   "execution_count": 5,
   "metadata": {},
   "outputs": [
    {
     "name": "stdout",
     "output_type": "stream",
     "text": [
      "[9, 61, 17, 38, 97, 56, 79, 5, 13, 69, 80, 46, 32, 67, 77, 65, 7, 28, 52, 15, 99, 41, 27, 24, 31, 86, 58, 51, 66, 2, 20, 57, 4, 76, 18, 26, 74, 19, 10, 47, 40, 42, 64, 14, 82, 72, 49, 60, 90, 55, 59, 35, 3, 30, 21, 93, 81, 37, 62, 50, 45, 63, 6, 70, 73, 8, 88, 12, 54, 34, 94, 85, 98, 96, 68, 78, 44, 89, 91, 33]\n"
     ]
    }
   ],
   "source": [
    "# Your code here\n",
    "sample_list_1 = random.sample(range(100), 80)\n",
    "print(sample_list_1)"
   ]
  },
  {
   "cell_type": "markdown",
   "metadata": {},
   "source": [
    "#### Convert `sample_list_1` to a set called `set1`. Print the length of the set. Is its length still 80?"
   ]
  },
  {
   "cell_type": "code",
   "execution_count": 6,
   "metadata": {},
   "outputs": [
    {
     "name": "stdout",
     "output_type": "stream",
     "text": [
      "Len of sample_list_1:  80\n",
      "Len of set1:  80\n",
      "The length hasn't changed\n"
     ]
    }
   ],
   "source": [
    "# Your code here\n",
    "set1 = set(sample_list_1)\n",
    "print(\"Len of sample_list_1: \", len(sample_list_1))\n",
    "print(\"Len of set1: \", len(set1))\n",
    "print(\"The length hasn't changed\")"
   ]
  },
  {
   "cell_type": "markdown",
   "metadata": {},
   "source": [
    "#### Create another list named `sample_list_2` with 80 random values.\n",
    "\n",
    "Requirements:\n",
    "\n",
    "* Each value is an integer falling between 0 and 100.\n",
    "* The values in the list don't have to be unique.\n",
    "\n",
    "*Hint: Use a FOR loop.*"
   ]
  },
  {
   "cell_type": "code",
   "execution_count": 7,
   "metadata": {},
   "outputs": [
    {
     "data": {
      "text/plain": [
       "[60,\n",
       " 56,\n",
       " 63,\n",
       " 81,\n",
       " 80,\n",
       " 6,\n",
       " 45,\n",
       " 32,\n",
       " 83,\n",
       " 56,\n",
       " 82,\n",
       " 15,\n",
       " 38,\n",
       " 94,\n",
       " 74,\n",
       " 65,\n",
       " 15,\n",
       " 1,\n",
       " 55,\n",
       " 3,\n",
       " 38,\n",
       " 48,\n",
       " 37,\n",
       " 84,\n",
       " 94,\n",
       " 19,\n",
       " 61,\n",
       " 75,\n",
       " 62,\n",
       " 25,\n",
       " 31,\n",
       " 25,\n",
       " 5,\n",
       " 41,\n",
       " 38,\n",
       " 77,\n",
       " 91,\n",
       " 34,\n",
       " 3,\n",
       " 52,\n",
       " 24,\n",
       " 24,\n",
       " 48,\n",
       " 29,\n",
       " 86,\n",
       " 36,\n",
       " 51,\n",
       " 43,\n",
       " 67,\n",
       " 84,\n",
       " 69,\n",
       " 58,\n",
       " 13,\n",
       " 77,\n",
       " 39,\n",
       " 65,\n",
       " 31,\n",
       " 99,\n",
       " 75,\n",
       " 72,\n",
       " 82,\n",
       " 33,\n",
       " 84,\n",
       " 7,\n",
       " 64,\n",
       " 71,\n",
       " 18,\n",
       " 39,\n",
       " 40,\n",
       " 2,\n",
       " 36,\n",
       " 88,\n",
       " 42,\n",
       " 28,\n",
       " 12,\n",
       " 55,\n",
       " 3,\n",
       " 90,\n",
       " 48,\n",
       " 21]"
      ]
     },
     "execution_count": 7,
     "metadata": {},
     "output_type": "execute_result"
    }
   ],
   "source": [
    "random.choices(range(100),k=80 )"
   ]
  },
  {
   "cell_type": "code",
   "execution_count": 8,
   "metadata": {
    "scrolled": false
   },
   "outputs": [
    {
     "name": "stdout",
     "output_type": "stream",
     "text": [
      "[[14], [46], [1], [6], [10], [88], [31], [92], [86], [41], [66], [72], [90], [41], [34], [63], [66], [0], [98], [21], [21], [56], [31], [45], [99], [57], [74], [28], [67], [17], [92], [51], [75], [82], [49], [71], [69], [6], [98], [77], [25], [41], [1], [4], [24], [61], [77], [37], [90], [31], [89], [74], [79], [76], [3], [10], [49], [62], [48], [97], [32], [36], [41], [99], [18], [52], [38], [27], [25], [11], [55], [29], [56], [53], [24], [72], [17], [5], [61], [82], [76]]\n",
      "\n",
      "flattend:  [14, 46, 1, 6, 10, 88, 31, 92, 86, 41, 66, 72, 90, 41, 34, 63, 66, 0, 98, 21, 21, 56, 31, 45, 99, 57, 74, 28, 67, 17, 92, 51, 75, 82, 49, 71, 69, 6, 98, 77, 25, 41, 1, 4, 24, 61, 77, 37, 90, 31, 89, 74, 79, 76, 3, 10, 49, 62, 48, 97, 32, 36, 41, 99, 18, 52, 38, 27, 25, 11, 55, 29, 56, 53, 24, 72, 17, 5, 61, 82, 76]\n"
     ]
    }
   ],
   "source": [
    "sample_list_2 = []\n",
    "i = 0\n",
    "while i <= 80:\n",
    "    sample_list_2.append(random.sample(range(100), 1))\n",
    "    i += 1\n",
    "print(sample_list_2)\n",
    "flat_list = [item for sublist in sample_list_2 for item in sublist]\n",
    "print(\"\\nflattend: \", flat_list)\n"
   ]
  },
  {
   "cell_type": "markdown",
   "metadata": {},
   "source": [
    "#### Convert `sample_list_2` to a set called `set2`. Print the length of the set. Is its length still 80?"
   ]
  },
  {
   "cell_type": "code",
   "execution_count": 9,
   "metadata": {},
   "outputs": [
    {
     "name": "stdout",
     "output_type": "stream",
     "text": [
      "Len of set2:  56\n",
      "The length has changed\n"
     ]
    }
   ],
   "source": [
    "# Your code here\n",
    "set2 = set(flat_list)\n",
    "print(\"Len of set2: \", len(set2))\n",
    "print(\"The length has changed\")"
   ]
  },
  {
   "cell_type": "markdown",
   "metadata": {},
   "source": [
    "#### Identify the elements present in `set1` but not in `set2`. Assign the elements to a new set named `set3`."
   ]
  },
  {
   "cell_type": "code",
   "execution_count": 10,
   "metadata": {},
   "outputs": [
    {
     "name": "stdout",
     "output_type": "stream",
     "text": [
      "{2, 7, 8, 9, 12, 13, 15, 19, 20, 26, 30, 33, 35, 40, 42, 44, 47, 50, 54, 58, 59, 60, 64, 65, 68, 70, 73, 78, 80, 81, 85, 91, 93, 94, 96}\n"
     ]
    }
   ],
   "source": [
    "# Your code here\n",
    "set3 = set1.difference(set2)\n",
    "print(set3)\n"
   ]
  },
  {
   "cell_type": "markdown",
   "metadata": {},
   "source": [
    "#### Identify the elements present in `set2` but not in `set1`. Assign the elements to a new set named `set4`."
   ]
  },
  {
   "cell_type": "code",
   "execution_count": 11,
   "metadata": {},
   "outputs": [
    {
     "name": "stdout",
     "output_type": "stream",
     "text": [
      "{0, 1, 36, 71, 11, 75, 48, 53, 25, 92, 29}\n"
     ]
    }
   ],
   "source": [
    "# Your code here\n",
    "set4 = set2.difference(set1)\n",
    "print(set4)"
   ]
  },
  {
   "cell_type": "markdown",
   "metadata": {},
   "source": [
    "#### Now Identify the elements shared between `set1` and `set2`. Assign the elements to a new set named `set5`."
   ]
  },
  {
   "cell_type": "code",
   "execution_count": 12,
   "metadata": {},
   "outputs": [],
   "source": [
    "# Your code here\n",
    "set5 = set1.intersection(set2)"
   ]
  },
  {
   "cell_type": "markdown",
   "metadata": {},
   "source": [
    "#### What is the relationship among the following values:\n",
    "\n",
    "* len(set1)\n",
    "* len(set2)\n",
    "* len(set3)\n",
    "* len(set4)\n",
    "* len(set5)\n",
    "\n",
    "Use a math formular to represent that relationship. Test your formular with Python code."
   ]
  },
  {
   "cell_type": "code",
   "execution_count": 13,
   "metadata": {},
   "outputs": [
    {
     "name": "stdout",
     "output_type": "stream",
     "text": [
      "80\n",
      "56\n",
      "35\n",
      "11\n",
      "45\n"
     ]
    },
    {
     "data": {
      "text/plain": [
       "True"
      ]
     },
     "execution_count": 13,
     "metadata": {},
     "output_type": "execute_result"
    }
   ],
   "source": [
    "# Your code here\n",
    "print(len(set1))\n",
    "print(len(set2))\n",
    "print(len(set3))\n",
    "print(len(set4))\n",
    "print(len(set5))\n",
    "len(set1) > len(set2)> len(set5)> len(set3) > len(set4)"
   ]
  },
  {
   "cell_type": "markdown",
   "metadata": {},
   "source": [
    "#### Create an empty set called `set6`."
   ]
  },
  {
   "cell_type": "code",
   "execution_count": 20,
   "metadata": {},
   "outputs": [],
   "source": [
    "# Your code here\n",
    "set6 = set()"
   ]
  },
  {
   "cell_type": "markdown",
   "metadata": {},
   "source": [
    "#### Add `set3` and `set5` to `set6` using the Python Set `update` method."
   ]
  },
  {
   "cell_type": "code",
   "execution_count": 21,
   "metadata": {},
   "outputs": [
    {
     "name": "stdout",
     "output_type": "stream",
     "text": [
      "{2, 3, 4, 5, 6, 7, 8, 9, 10, 12, 13, 14, 15, 17, 18, 19, 20, 21, 24, 26, 27, 28, 30, 31, 32, 33, 34, 35, 37, 38, 40, 41, 42, 44, 45, 46, 47, 49, 50, 51, 52, 54, 55, 56, 57, 58, 59, 60, 61, 62, 63, 64, 65, 66, 67, 68, 69, 70, 72, 73, 74, 76, 77, 78, 79, 80, 81, 82, 85, 86, 88, 89, 90, 91, 93, 94, 96, 97, 98, 99}\n"
     ]
    }
   ],
   "source": [
    "# Your code here\n",
    "set6.update(set3, set5)\n",
    "print(set6)"
   ]
  },
  {
   "cell_type": "markdown",
   "metadata": {},
   "source": [
    "#### Check if `set1` and `set6` are equal."
   ]
  },
  {
   "cell_type": "code",
   "execution_count": 22,
   "metadata": {},
   "outputs": [
    {
     "data": {
      "text/plain": [
       "True"
      ]
     },
     "execution_count": 22,
     "metadata": {},
     "output_type": "execute_result"
    }
   ],
   "source": [
    "# Your code here\n",
    "set1 == set6"
   ]
  },
  {
   "cell_type": "markdown",
   "metadata": {},
   "source": [
    "#### Check if `set1` contains `set2` using the Python Set `issubset` method. Then check if `set1` contains `set3`.*"
   ]
  },
  {
   "cell_type": "code",
   "execution_count": 25,
   "metadata": {},
   "outputs": [
    {
     "name": "stdout",
     "output_type": "stream",
     "text": [
      "False\n",
      "True\n"
     ]
    }
   ],
   "source": [
    "# Your code here\n",
    "print(set1.issubset(set2))\n",
    "print(set1.issubset(set1))\n"
   ]
  },
  {
   "cell_type": "markdown",
   "metadata": {},
   "source": [
    "#### Using the Python Set `union` method, aggregate `set3`, `set4`, and `set5`. Then aggregate `set1` and `set2`. \n",
    "\n",
    "#### Check if the aggregated values are equal."
   ]
  },
  {
   "cell_type": "code",
   "execution_count": 40,
   "metadata": {},
   "outputs": [
    {
     "name": "stdout",
     "output_type": "stream",
     "text": [
      "set()\n",
      "\n",
      " {0, 1, 2, 3, 4, 5, 6, 7, 8, 9, 10, 11, 12, 13, 14, 15, 17, 18, 19, 20, 21, 24, 25, 26, 27, 28, 29, 30, 31, 32, 33, 34, 35, 36, 37, 38, 40, 41, 42, 44, 45, 46, 47, 48, 49, 50, 51, 52, 53, 54, 55, 56, 57, 58, 59, 60, 61, 62, 63, 64, 65, 66, 67, 68, 69, 70, 71, 72, 73, 74, 75, 76, 77, 78, 79, 80, 81, 82, 85, 86, 88, 89, 90, 91, 92, 93, 94, 96, 97, 98, 99}\n",
      "\n",
      " set()\n",
      "{2, 3, 4, 5, 6, 7, 8, 9, 10, 12, 13, 14, 15, 17, 18, 19, 20, 21, 24, 26, 27, 28, 30, 31, 32, 33, 34, 35, 37, 38, 40, 41, 42, 44, 45, 46, 47, 49, 50, 51, 52, 54, 55, 56, 57, 58, 59, 60, 61, 62, 63, 64, 65, 66, 67, 68, 69, 70, 72, 73, 74, 76, 77, 78, 79, 80, 81, 82, 85, 86, 88, 89, 90, 91, 93, 94, 96, 97, 98, 99} {0, 1, 3, 4, 5, 6, 10, 11, 14, 17, 18, 21, 24, 25, 27, 28, 29, 31, 32, 34, 36, 37, 38, 41, 45, 46, 48, 49, 51, 52, 53, 55, 56, 57, 61, 62, 63, 66, 67, 69, 71, 72, 74, 75, 76, 77, 79, 82, 86, 88, 89, 90, 92, 97, 98, 99}\n",
      "\n",
      " {0, 1, 2, 3, 4, 5, 6, 7, 8, 9, 10, 11, 12, 13, 14, 15, 17, 18, 19, 20, 21, 24, 25, 26, 27, 28, 29, 30, 31, 32, 33, 34, 35, 36, 37, 38, 40, 41, 42, 44, 45, 46, 47, 48, 49, 50, 51, 52, 53, 54, 55, 56, 57, 58, 59, 60, 61, 62, 63, 64, 65, 66, 67, 68, 69, 70, 71, 72, 73, 74, 75, 76, 77, 78, 79, 80, 81, 82, 85, 86, 88, 89, 90, 91, 92, 93, 94, 96, 97, 98, 99}\n"
     ]
    }
   ],
   "source": [
    "# Your code here\n",
    "uni345 = set()\n",
    "print(uni345)\n",
    "uni345 = uni345.union(set3, set4, set5)\n",
    "print(\"\\n\",uni345)\n",
    "uni12 = set()\n",
    "print(\"\\n\",uni12)\n",
    "print(set1, set2)\n",
    "uni12 = uni12.union(set1, set2)\n",
    "print(\"\\n\",uni12)\n",
    "\n"
   ]
  },
  {
   "cell_type": "markdown",
   "metadata": {},
   "source": [
    "#### Using the `pop` method, remove the first element from `set1`."
   ]
  },
  {
   "cell_type": "code",
   "execution_count": 42,
   "metadata": {},
   "outputs": [
    {
     "name": "stdout",
     "output_type": "stream",
     "text": [
      "{2, 3, 4, 5, 6, 7, 8, 9, 10, 12, 13, 14, 15, 17, 18, 19, 20, 21, 24, 26, 27, 28, 30, 31, 32, 33, 34, 35, 37, 38, 40, 41, 42, 44, 45, 46, 47, 49, 50, 51, 52, 54, 55, 56, 57, 58, 59, 60, 61, 62, 63, 64, 65, 66, 67, 68, 69, 70, 72, 73, 74, 76, 77, 78, 79, 80, 81, 82, 85, 86, 88, 89, 90, 91, 93, 94, 96, 97, 98, 99}\n",
      "\n",
      " after:  {3, 4, 5, 6, 7, 8, 9, 10, 12, 13, 14, 15, 17, 18, 19, 20, 21, 24, 26, 27, 28, 30, 31, 32, 33, 34, 35, 37, 38, 40, 41, 42, 44, 45, 46, 47, 49, 50, 51, 52, 54, 55, 56, 57, 58, 59, 60, 61, 62, 63, 64, 65, 66, 67, 68, 69, 70, 72, 73, 74, 76, 77, 78, 79, 80, 81, 82, 85, 86, 88, 89, 90, 91, 93, 94, 96, 97, 98, 99}\n"
     ]
    }
   ],
   "source": [
    "# Your code here\n",
    "print(set1)\n",
    "set1.pop()\n",
    "print(\"\\n after: \",set1)\n"
   ]
  },
  {
   "cell_type": "markdown",
   "metadata": {},
   "source": [
    "#### Remove every element in the following list from `set1` if they are present in the set. Print the remaining elements.\n",
    "\n",
    "```\n",
    "list_to_remove = [1, 9, 11, 19, 21, 29, 31, 39, 41, 49, 51, 59, 61, 69, 71, 79, 81, 89, 91, 99]\n",
    "```"
   ]
  },
  {
   "cell_type": "code",
   "execution_count": 45,
   "metadata": {},
   "outputs": [
    {
     "name": "stdout",
     "output_type": "stream",
     "text": [
      "{3, 4, 5, 6, 7, 8, 10, 12, 13, 14, 15, 17, 18, 19, 20, 21, 24, 26, 27, 28, 30, 31, 32, 33, 34, 35, 37, 38, 40, 41, 42, 44, 45, 46, 47, 49, 50, 51, 52, 54, 55, 56, 57, 58, 59, 60, 61, 62, 63, 64, 65, 66, 67, 68, 69, 70, 72, 73, 74, 76, 77, 78, 79, 80, 81, 82, 85, 86, 88, 89, 90, 91, 93, 94, 96, 97, 98, 99}\n",
      "\n",
      "removed:  [3, 4, 5, 6, 7, 8, 10, 12, 13, 14, 15, 17, 18, 20, 24, 26, 27, 28, 30, 32, 33, 34, 35, 37, 38, 40, 42, 44, 45, 46, 47, 50, 52, 54, 55, 56, 57, 58, 60, 62, 63, 64, 65, 66, 67, 68, 70, 72, 73, 74, 76, 77, 78, 80, 82, 85, 86, 88, 90, 93, 94, 96, 97, 98]\n"
     ]
    }
   ],
   "source": [
    "# Your code here\n",
    "print(set1)\n",
    "tmp_set1 = []\n",
    "list_to_remove = [1, 9, 11, 19, 21, 29, 31, 39, 41, 49, 51, 59, 61, 69, 71, 79, 81, 89, 91, 99]\n",
    "for i in set1:\n",
    "    if i not in list_to_remove:\n",
    "        tmp_set1.append(i)\n",
    "print(\"\\nremoved: \",tmp_set1)\n"
   ]
  },
  {
   "cell_type": "code",
   "execution_count": null,
   "metadata": {},
   "outputs": [],
   "source": []
  }
 ],
 "metadata": {
  "kernelspec": {
   "display_name": "Python 3",
   "language": "python",
   "name": "python3"
  },
  "language_info": {
   "codemirror_mode": {
    "name": "ipython",
    "version": 3
   },
   "file_extension": ".py",
   "mimetype": "text/x-python",
   "name": "python",
   "nbconvert_exporter": "python",
   "pygments_lexer": "ipython3",
   "version": "3.8.3"
  }
 },
 "nbformat": 4,
 "nbformat_minor": 2
}
